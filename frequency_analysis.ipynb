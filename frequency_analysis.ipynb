{
 "cells": [
  {
   "cell_type": "code",
   "execution_count": null,
   "metadata": {},
   "outputs": [],
   "source": [
    "import pymorphy2\n",
    "import nltk\n",
    "nltk.download('stopwords')\n",
    "\n",
    "from db_actions import DatabaseActions as db"
   ]
  },
  {
   "cell_type": "code",
   "execution_count": null,
   "metadata": {},
   "outputs": [],
   "source": [
    "\n",
    "data = db.get_all()\n",
    "\n",
    "# print(data[1][4])\n",
    "print(len(data))"
   ]
  },
  {
   "cell_type": "code",
   "execution_count": null,
   "metadata": {},
   "outputs": [],
   "source": [
    "text = \"\"\n",
    "\n",
    "for i in range(len(data)):\n",
    "    text = text + data[i][4] + \" \"\n",
    "\n",
    "\n",
    "print(len(text))"
   ]
  },
  {
   "cell_type": "code",
   "execution_count": null,
   "metadata": {},
   "outputs": [],
   "source": [
    "# предобработка текста\n",
    "import string\n",
    "\n",
    "\n",
    "text = text.lower()\n",
    "\n",
    "spec_chars = string.punctuation + '\\n\\xa0«»\\t—…' \n",
    "\n",
    "text2 = \"\".join([ch for ch in text if ch not in spec_chars])\n",
    "print(text[0:100])\n"
   ]
  },
  {
   "cell_type": "code",
   "execution_count": null,
   "metadata": {},
   "outputs": [],
   "source": [
    "\n",
    "text_tokens = nltk.word_tokenize(text2)\n",
    "\n",
    "print(len(text_tokens))\n",
    "text3 = nltk.Text(text_tokens)\n",
    "\n",
    "russian_stopwords = nltk.corpus.stopwords.words(\"russian\")\n",
    "russian_stopwords.extend(['это', 'всё', 'ещё'])"
   ]
  },
  {
   "cell_type": "code",
   "execution_count": null,
   "metadata": {},
   "outputs": [],
   "source": [
    "final_texts = []\n",
    "morph = pymorphy2.MorphAnalyzer()\n",
    "\n",
    "for i in range(len(text3)):\n",
    "    tmptext = morph.parse(text3[i])[0].normal_form\n",
    "\n",
    "    if tmptext not in russian_stopwords:\n",
    "        final_texts.append(tmptext)\n",
    "\n",
    "print(len(final_texts))\n",
    "print(final_texts[100:200])"
   ]
  },
  {
   "cell_type": "code",
   "execution_count": null,
   "metadata": {},
   "outputs": [],
   "source": [
    "fdist_sw = nltk.probability.FreqDist(final_texts)\n",
    "fdist_sw.most_common(10)\n",
    "\n",
    "fdist_sw.plot(30,cumulative=False)\n"
   ]
  },
  {
   "cell_type": "code",
   "execution_count": null,
   "metadata": {},
   "outputs": [],
   "source": [
    "from wordcloud import WordCloud\n",
    "import matplotlib.pyplot as plt\n",
    "\n",
    "text_raw = \" \".join(final_texts)\n",
    "wordcloud = WordCloud().generate(text_raw)\n",
    "\n",
    "plt.imshow(wordcloud, interpolation=\"bilinear\")\n",
    "\n",
    "plt.show()\n"
   ]
  }
 ],
 "metadata": {
  "kernelspec": {
   "display_name": "Python 3",
   "language": "python",
   "name": "python3"
  },
  "language_info": {
   "codemirror_mode": {
    "name": "ipython",
    "version": 3
   },
   "file_extension": ".py",
   "mimetype": "text/x-python",
   "name": "python",
   "nbconvert_exporter": "python",
   "pygments_lexer": "ipython3",
   "version": "3.9.7"
  },
  "orig_nbformat": 4
 },
 "nbformat": 4,
 "nbformat_minor": 2
}
