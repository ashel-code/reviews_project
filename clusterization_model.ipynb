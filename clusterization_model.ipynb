{
 "cells": [
  {
   "cell_type": "code",
   "execution_count": null,
   "metadata": {},
   "outputs": [],
   "source": [
    "import tensorflow as tf\n",
    "from tensorflow import keras\n",
    "\n",
    "# Helper libraries\n",
    "import numpy as np\n",
    "import matplotlib.pyplot as plt\n",
    "import os\n",
    "import subprocess\n",
    "import pickle\n",
    "\n",
    "print('TensorFlow version: {}'.format(tf.__version__))"
   ]
  },
  {
   "cell_type": "code",
   "execution_count": null,
   "metadata": {},
   "outputs": [],
   "source": [
    "from db_actions import DatabaseActions as db\n",
    "\n",
    "data = db.get_parsed()\n",
    "print(data[7][0])"
   ]
  },
  {
   "cell_type": "code",
   "execution_count": null,
   "metadata": {},
   "outputs": [],
   "source": [
    "dataset = [[data[0][0], pickle.loads(bytes.fromhex(data[0][1])), data[0][2]]]\n",
    "for i in range(1, len(data)):\n",
    "        dataset.append([data[i][0], pickle.loads(bytes.fromhex(data[i][1])), data[i][2]])\n",
    "\n"
   ]
  },
  {
   "cell_type": "code",
   "execution_count": null,
   "metadata": {},
   "outputs": [],
   "source": [
    "\n",
    "import numpy as np\n",
    "from keras.models import Sequential\n",
    "from keras.layers import Dense\n",
    "from sklearn.cluster import KMeans\n",
    "from sklearn.feature_extraction.text import TfidfVectorizer\n",
    "\n",
    "vectors_tmp = []\n",
    "for record in dataset:\n",
    "    vectors_tmp.append(record[1])\n",
    "\n",
    "# make numpy array vectors\n",
    "vectors = np.array(vectors_tmp)\n",
    "\n",
    "\n",
    "print(vectors.shape)\n"
   ]
  },
  {
   "cell_type": "code",
   "execution_count": null,
   "metadata": {},
   "outputs": [],
   "source": [
    "# print max value in vector in vectors by absolute value\n",
    "def max_abs_value(vectors):\n",
    "    max_value = 0\n",
    "    for vector in vectors:\n",
    "        max_value = max(max_value, max(abs(x) for x in vector))\n",
    "    return max_value\n",
    "\n",
    "print(max_abs_value(vectors), end= '\\n' + '~' * 80 + '\\n')\n",
    "\n",
    "x_train = vectors / max_abs_value(vectors)\n",
    "\n",
    "x_train += 1\n",
    "x_train = x_train / max_abs_value(x_train) * (1 - 1 / 10 ** 5)\n",
    "print(max_abs_value(x_train))\n"
   ]
  },
  {
   "cell_type": "code",
   "execution_count": null,
   "metadata": {},
   "outputs": [],
   "source": [
    "y_tmp = []\n",
    "for record in dataset:\n",
    "    if record[2] not in [0, 1]:\n",
    "        y_tmp.append(0)\n",
    "    else:\n",
    "        y_tmp.append(record[2])\n",
    "\n",
    "# make numpy array vectors\n",
    "y_train_t = np.array(y_tmp)\n",
    "y_train = y_train_t.astype(bool)\n",
    "\n",
    "print(y_train[1:10])\n",
    "\n"
   ]
  },
  {
   "cell_type": "code",
   "execution_count": null,
   "metadata": {},
   "outputs": [],
   "source": [
    "print(x_train)\n",
    "print(y_train)"
   ]
  },
  {
   "cell_type": "code",
   "execution_count": null,
   "metadata": {},
   "outputs": [],
   "source": [
    "import tensorflow as tf\n",
    "from tensorflow.keras.models import Sequential\n",
    "from tensorflow.keras.layers import Dense, Dropout, LSTM, Embedding, Conv1D, GlobalMaxPooling1D, Attention, Reshape\n",
    "\n",
    "model = tf.keras.models.Sequential([\n",
    "        tf.keras.layers.Dense(1024 * 4, activation='elu', input_shape=(768,)),\n",
    "        tf.keras.layers.Dropout(0.5),\n",
    "        tf.keras.layers.Dense(1024 * 3, activation='elu'),\n",
    "        tf.keras.layers.Dense(1024 * 3, activation='elu'),\n",
    "        tf.keras.layers.Dropout(0.5),\n",
    "        tf.keras.layers.Dense(1024 * 2, activation='elu'),\n",
    "        tf.keras.layers.Dense(1024 * 2, activation='elu'),\n",
    "        tf.keras.layers.Dropout(0.5),\n",
    "        tf.keras.layers.Dense(1024, activation='elu'),\n",
    "        tf.keras.layers.Dense(1024, activation='elu'),\n",
    "        tf.keras.layers.Dropout(0.5),\n",
    "        tf.keras.layers.Dense(512, activation='elu'),\n",
    "        tf.keras.layers.Dense(256, activation='elu'),\n",
    "        tf.keras.layers.Dropout(0.5),\n",
    "        tf.keras.layers.Dense(256, activation='elu'),\n",
    "        tf.keras.layers.Dense(64, activation='elu'),\n",
    "        tf.keras.layers.Dropout(0.5),\n",
    "        tf.keras.layers.Dense(1, activation='sigmoid')\n",
    "    ])\n",
    "\n",
    "\n",
    "# # Define the model architecture\n",
    "# model = Sequential()\n",
    "# model.add(Embedding(input_dim=1, output_dim=300, input_length=768))  # Embedding layer for word embeddings\n",
    "# model.add(Conv1D(256, 5, activation='relu', padding='same'))  # Convolutional layer with 256 filters and kernel size of 5\n",
    "# model.add(GlobalMaxPooling1D())  # Global max pooling layer\n",
    "# # model.add(Reshape((256, 1)))  # Reshape the output to make it three-dimensional\n",
    "# # model.add(LSTM(512, return_sequences=False))  # LSTM layer with 512 units\n",
    "# # model.add(Attention())  # Attention layer to focus on important parts of the sequence\n",
    "# model.add(Dense(256, activation='relu'))  # Dense layer with 256 neurons\n",
    "# model.add(Dropout(0.5))  # Dropout layer for regularization\n",
    "# model.add(Dense(128, activation='relu'))  # Additional dense layer with 128 neurons\n",
    "# model.add(Dropout(0.5))  # Additional dropout layer\n",
    "# model.add(Dense(1, activation='sigmoid'))  # Output layer with sigmoid activation\n",
    "\n",
    "# Compile the model\n",
    "model.compile(optimizer='adam', loss='binary_crossentropy', metrics=['accuracy'])\n",
    "\n",
    "\n",
    "# model.summary()\n",
    "\n",
    "\n",
    "# Train the model\n",
    "model.fit(x_train, y_train, epochs=100, verbose=1)\n",
    "\n"
   ]
  },
  {
   "cell_type": "code",
   "execution_count": null,
   "metadata": {},
   "outputs": [],
   "source": [
    "for i in range(600, 610):\n",
    "    print(i, dataset[i][2], dataset[i][0], sep= '\\t', end='\\t')\n",
    "    print()\n",
    "\n",
    "\n",
    "model.predict(x_train[600:610])\n"
   ]
  }
 ],
 "metadata": {
  "kernelspec": {
   "display_name": "Python 3",
   "language": "python",
   "name": "python3"
  },
  "language_info": {
   "codemirror_mode": {
    "name": "ipython",
    "version": 3
   },
   "file_extension": ".py",
   "mimetype": "text/x-python",
   "name": "python",
   "nbconvert_exporter": "python",
   "pygments_lexer": "ipython3",
   "version": "3.9.7"
  },
  "orig_nbformat": 4
 },
 "nbformat": 4,
 "nbformat_minor": 2
}
