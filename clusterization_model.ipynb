{
 "cells": [
  {
   "cell_type": "code",
   "execution_count": 343,
   "metadata": {},
   "outputs": [
    {
     "name": "stdout",
     "output_type": "stream",
     "text": [
      "TensorFlow version: 2.12.0\n"
     ]
    }
   ],
   "source": [
    "import tensorflow as tf\n",
    "from tensorflow import keras\n",
    "\n",
    "# Helper libraries\n",
    "import numpy as np\n",
    "import matplotlib.pyplot as plt\n",
    "import os\n",
    "import subprocess\n",
    "import pickle\n",
    "\n",
    "print('TensorFlow version: {}'.format(tf.__version__))"
   ]
  },
  {
   "cell_type": "code",
   "execution_count": 344,
   "metadata": {},
   "outputs": [
    {
     "name": "stdout",
     "output_type": "stream",
     "text": [
      "Хороший ресторан. Приятно отдыхать. \n"
     ]
    }
   ],
   "source": [
    "from db_actions import DatabaseActions as db\n",
    "\n",
    "data = db.get_parsed()\n",
    "print(data[7][0])"
   ]
  },
  {
   "cell_type": "code",
   "execution_count": 345,
   "metadata": {},
   "outputs": [
    {
     "name": "stdout",
     "output_type": "stream",
     "text": [
      "0\n"
     ]
    }
   ],
   "source": [
    "dataset = [[data[0][0], pickle.loads(bytes.fromhex(data[0][1])), data[0][2]]]\n",
    "for i in range(1, len(data)):\n",
    "        dataset.append([data[i][0], pickle.loads(bytes.fromhex(data[i][1])), data[i][2]])\n",
    "\n",
    "print(dataset[0][2])\n",
    "\n",
    "# 0 -- text\n",
    "# 1 -- vector\n",
    "# 2 -- is_fake"
   ]
  },
  {
   "cell_type": "code",
   "execution_count": 346,
   "metadata": {},
   "outputs": [],
   "source": [
    "fake_len = 100\n",
    "true_len = 100    \n",
    "\n",
    "texts = []\n",
    "x_train_t = []\n",
    "y_train_t = []\n",
    "for i in range(len(dataset)):\n",
    "    if fake_len <= 0:\n",
    "        break\n",
    "    if dataset[i][2] == 1:\n",
    "        x_train_t.append(dataset[i][1])\n",
    "        y_train_t.append(dataset[i][2])\n",
    "        texts.append(dataset[i][0])\n",
    "        fake_len -= 1\n",
    "\n",
    "\n",
    "for i in range(len(dataset)):\n",
    "    if true_len <= 0:\n",
    "        break\n",
    "    if dataset[i][2] == 0:\n",
    "        x_train_t.append(dataset[i][1])\n",
    "        y_train_t.append(dataset[i][2])\n",
    "        texts.append(dataset[i][0])\n",
    "        true_len -= 1\n"
   ]
  },
  {
   "cell_type": "code",
   "execution_count": 347,
   "metadata": {},
   "outputs": [
    {
     "name": "stdout",
     "output_type": "stream",
     "text": [
      "(711, 768)\n"
     ]
    }
   ],
   "source": [
    "\n",
    "import numpy as np\n",
    "from keras.models import Sequential\n",
    "from keras.layers import Dense\n",
    "from sklearn.cluster import KMeans\n",
    "from sklearn.feature_extraction.text import TfidfVectorizer\n",
    "\n",
    "vectors_tmp = []\n",
    "for record in dataset:\n",
    "    vectors_tmp.append(record[1])\n",
    "\n",
    "# make numpy array vectors\n",
    "vectors = np.array(vectors_tmp)\n",
    "\n",
    "\n",
    "print(vectors.shape)\n"
   ]
  },
  {
   "cell_type": "code",
   "execution_count": 348,
   "metadata": {},
   "outputs": [
    {
     "name": "stdout",
     "output_type": "stream",
     "text": [
      "3.6503556\n",
      "~~~~~~~~~~~~~~~~~~~~~~~~~~~~~~~~~~~~~~~~~~~~~~~~~~~~~~~~~~~~~~~~~~~~~~~~~~~~~~~~\n",
      "0.99999\n"
     ]
    }
   ],
   "source": [
    "# print max value in vector in vectors by absolute value\n",
    "def max_abs_value(vectors):\n",
    "    return max(abs(np.min(vectors)), np.max(vectors))\n",
    "\n",
    "print(max_abs_value(x_train_t), end= '\\n' + '~' * 80 + '\\n')\n",
    "\n",
    "x_train_t2 = vectors / max_abs_value(x_train_t)\n",
    "\n",
    "x_train_t2 += 1\n",
    "x_train = x_train_t / max_abs_value(x_train_t) * (1 - 1 / 10 ** 5)\n",
    "\n",
    "print(max_abs_value(x_train))\n"
   ]
  },
  {
   "cell_type": "code",
   "execution_count": 349,
   "metadata": {},
   "outputs": [
    {
     "name": "stdout",
     "output_type": "stream",
     "text": [
      "[ True  True  True  True  True  True  True  True  True]\n",
      "(200, 768)\n",
      "(200,)\n"
     ]
    }
   ],
   "source": [
    "\n",
    "# make numpy array vectors\n",
    "y_train_t2 = np.array(y_train_t)\n",
    "y_train = np.array(y_train_t).astype(bool)\n",
    "\n",
    "print(y_train[1:10])\n",
    "\n",
    "print(x_train.shape)\n",
    "print(y_train.shape)"
   ]
  },
  {
   "cell_type": "code",
   "execution_count": 350,
   "metadata": {},
   "outputs": [
    {
     "name": "stdout",
     "output_type": "stream",
     "text": [
      "[[-0.1796261  -0.3177063   0.18833625 ...  0.2663538  -0.21756333\n",
      "   0.04852504]\n",
      " [-0.17986612 -0.2641443   0.13951811 ...  0.41062406 -0.13013798\n",
      "   0.08484519]\n",
      " [-0.12720522 -0.38686308  0.11604431 ...  0.35385123 -0.06880906\n",
      "   0.07288557]\n",
      " ...\n",
      " [-0.16156684 -0.3783506   0.12312912 ...  0.3832249  -0.12081898\n",
      "   0.06430423]\n",
      " [-0.1941543  -0.22815195 -0.03702387 ...  0.384088   -0.05068755\n",
      "   0.09702554]\n",
      " [-0.15354572 -0.20752871  0.2105557  ...  0.32855862 -0.175106\n",
      "   0.07323228]]\n",
      "[ True  True  True  True  True  True  True  True  True  True  True  True\n",
      "  True  True  True  True  True  True  True  True  True  True  True  True\n",
      "  True  True  True  True  True  True  True  True  True  True  True  True\n",
      "  True  True  True  True  True  True  True  True  True  True  True  True\n",
      "  True  True  True  True  True  True  True  True  True  True  True  True\n",
      "  True  True  True  True  True  True  True  True  True  True  True  True\n",
      "  True  True  True  True  True  True  True  True  True  True  True  True\n",
      "  True  True  True  True  True  True  True  True  True  True  True  True\n",
      "  True  True  True  True False False False False False False False False\n",
      " False False False False False False False False False False False False\n",
      " False False False False False False False False False False False False\n",
      " False False False False False False False False False False False False\n",
      " False False False False False False False False False False False False\n",
      " False False False False False False False False False False False False\n",
      " False False False False False False False False False False False False\n",
      " False False False False False False False False False False False False\n",
      " False False False False False False False False]\n",
      "(200, 768)\n",
      "(200,)\n"
     ]
    }
   ],
   "source": [
    "print(x_train)\n",
    "print(y_train)\n",
    "\n",
    "print(x_train.shape)\n",
    "print(y_train.shape)"
   ]
  },
  {
   "cell_type": "code",
   "execution_count": 359,
   "metadata": {},
   "outputs": [
    {
     "name": "stdout",
     "output_type": "stream",
     "text": [
      "Epoch 1/15\n",
      "7/7 [==============================] - 3s 210ms/step - loss: 1.7056 - accuracy: 0.4800\n",
      "Epoch 2/15\n",
      "7/7 [==============================] - 1s 208ms/step - loss: 2.7382 - accuracy: 0.5400\n",
      "Epoch 3/15\n",
      "7/7 [==============================] - 1s 206ms/step - loss: 2.4565 - accuracy: 0.5650\n",
      "Epoch 4/15\n",
      "7/7 [==============================] - 2s 216ms/step - loss: 2.0109 - accuracy: 0.6050\n",
      "Epoch 5/15\n",
      "7/7 [==============================] - 2s 224ms/step - loss: 1.7561 - accuracy: 0.5800\n",
      "Epoch 6/15\n",
      "7/7 [==============================] - 2s 211ms/step - loss: 1.3977 - accuracy: 0.5900\n",
      "Epoch 7/15\n",
      "7/7 [==============================] - 1s 209ms/step - loss: 1.1029 - accuracy: 0.5950\n",
      "Epoch 8/15\n",
      "7/7 [==============================] - 1s 211ms/step - loss: 1.2090 - accuracy: 0.5000\n",
      "Epoch 9/15\n",
      "7/7 [==============================] - 1s 209ms/step - loss: 0.9120 - accuracy: 0.5500\n",
      "Epoch 10/15\n",
      "7/7 [==============================] - 1s 209ms/step - loss: 0.8186 - accuracy: 0.5800\n",
      "Epoch 11/15\n",
      "7/7 [==============================] - 2s 223ms/step - loss: 0.8899 - accuracy: 0.6000\n",
      "Epoch 12/15\n",
      "7/7 [==============================] - 1s 211ms/step - loss: 1.0955 - accuracy: 0.6300\n",
      "Epoch 13/15\n",
      "7/7 [==============================] - 1s 208ms/step - loss: 0.7963 - accuracy: 0.6500\n",
      "Epoch 14/15\n",
      "7/7 [==============================] - 1s 208ms/step - loss: 0.7936 - accuracy: 0.5900\n",
      "Epoch 15/15\n",
      "7/7 [==============================] - 2s 211ms/step - loss: 0.6530 - accuracy: 0.6750\n"
     ]
    },
    {
     "data": {
      "text/plain": [
       "<keras.callbacks.History at 0x16e5ff700>"
      ]
     },
     "execution_count": 359,
     "metadata": {},
     "output_type": "execute_result"
    }
   ],
   "source": [
    "import tensorflow as tf\n",
    "from tensorflow.keras.models import Sequential\n",
    "from tensorflow.keras.layers import Dense, Dropout, LSTM, Embedding, Conv1D, GlobalMaxPooling1D, Attention, Reshape\n",
    "\n",
    "model = tf.keras.models.Sequential([\n",
    "        tf.keras.layers.Dense(1024 * 4, activation='elu', input_shape=(768,)),\n",
    "        tf.keras.layers.Dropout(0.5),\n",
    "        tf.keras.layers.Dense(1024 * 3, activation='elu'),\n",
    "        tf.keras.layers.Dense(1024 * 3, activation='elu'),\n",
    "        tf.keras.layers.Dropout(0.5),\n",
    "        tf.keras.layers.Dense(1024 * 2, activation='elu'),\n",
    "        tf.keras.layers.Dense(1024 * 2, activation='elu'),\n",
    "        tf.keras.layers.Dropout(0.5),\n",
    "        tf.keras.layers.Dense(1024, activation='elu'),\n",
    "        tf.keras.layers.Dense(1024, activation='elu'),\n",
    "        tf.keras.layers.Dropout(0.5),\n",
    "        tf.keras.layers.Dense(512, activation='elu'),\n",
    "        tf.keras.layers.Dense(256, activation='elu'),\n",
    "        tf.keras.layers.Dropout(0.5),\n",
    "        tf.keras.layers.Dense(256, activation='elu'),\n",
    "        tf.keras.layers.Dense(64, activation='elu'),\n",
    "        tf.keras.layers.Dropout(0.5),\n",
    "        tf.keras.layers.Dense(1, activation='sigmoid')\n",
    "    ])\n",
    "\n",
    "\n",
    "# # Define the model architecture\n",
    "# model = Sequential()\n",
    "# model.add(Embedding(input_dim=1, output_dim=300, input_length=768))  # Embedding layer for word embeddings\n",
    "# model.add(Conv1D(256, 5, activation='relu', padding='same'))  # Convolutional layer with 256 filters and kernel size of 5\n",
    "# model.add(GlobalMaxPooling1D())  # Global max pooling layer\n",
    "# # model.add(Reshape((256, 1)))  # Reshape the output to make it three-dimensional\n",
    "# # model.add(LSTM(512, return_sequences=False))  # LSTM layer with 512 units\n",
    "# # model.add(Attention())  # Attention layer to focus on important parts of the sequence\n",
    "# model.add(Dense(256, activation='relu'))  # Dense layer with 256 neurons\n",
    "# model.add(Dropout(0.5))  # Dropout layer for regularization\n",
    "# model.add(Dense(128, activation='relu'))  # Additional dense layer with 128 neurons\n",
    "# model.add(Dropout(0.5))  # Additional dropout layer\n",
    "# model.add(Dense(1, activation='sigmoid'))  # Output layer with sigmoid activation\n",
    "\n",
    "# Compile the model\n",
    "model.compile(optimizer='adam', loss='binary_crossentropy', metrics=['accuracy'])\n",
    "\n",
    "\n",
    "# model.summary()\n",
    "\n",
    "\n",
    "# Train the model\n",
    "model.fit(x_train, y_train, epochs=15, verbose=1)\n",
    "\n"
   ]
  },
  {
   "cell_type": "code",
   "execution_count": 364,
   "metadata": {},
   "outputs": [
    {
     "name": "stdout",
     "output_type": "stream",
     "text": [
      "95\tTrue\tИнтересный интерьер: разрозненные и разноуровневые места и столики где посидеть выпить/поесть, большое свободное пространство пройтись и посмотреть на публику/анутраж, потанцевать под музычку. В летнее время особенно классно во дворике сидеть и пить рислинг А когда похолодает - зайти и поглядеть на камин\n",
      "А еще во время вечеринок ночью можно отведать стритфуд в отдельном поинте - этого таааак порой не хватает в других заведениях\t\n",
      "96\tTrue\tОтмечали свадьбу племянницы в небольшом, но очень уютном зале. Салаты, конопешечки, закусочки в оригинальной подаче, все очень вкусно. Обслуживание на высоте, официанты внимательные, бокал всегда был наполнен: Впереди лето, обязательно и с большим удовольствием вернусь в это заведение посетив основной зал. \t\n",
      "97\tTrue\tОтмечали юбилей подруги. Отличное кафе. Очень понравилась сервировка - организация праздничного стола. Официанты молодцы! Тихо, незаметно, всё вовремя. Мне здесь было очень уютно. Спасибо. \t\n",
      "98\tTrue\tПраздновали в ресторане свадьбу, около 46 гостей, все очень понравилось! \n",
      "Официанты вовремя приносили еду, наливали гостям именно то, что гости пили до этого. Можно приносить свой алкоголь по чекам. \n",
      "На протяжении всей подготовки менеджер Сабина была с нами на связи :\n",
      "Также отличное местоположение - самый центр, в 20х метрах метро Лубянка, напротив Детский мир.\n",
      "Ресторан рекомендуем \t\n",
      "99\tTrue\tУдобные диваны, приятная музыка, вежливый персонал. Был с девушкой на свидании. Хорошая кухня.\t\n",
      "100\tFalse\tБыла с подругами на концерте. Очень красивый интерьер ресторана. Было много людей. Слушали любимого исполнителя, стоя прям у сцены!!! Небольшое помещение и это прекрасно) единственный минус, у бара официанты, кассир очень долго делали коктейли и принимали заказы.\t\n",
      "101\tFalse\tАтмосферное заведение. Азербайджанская кухня и культура. Разнообразное меню. Интересно. Как-будто побывала в Баку.\t\n",
      "102\tFalse\tЗа азербайджанской кухней сюда. Музыка тоже будет. Аутентично довольно.\t\n",
      "103\tFalse\tОтличное место с аутентичной азербайджанской кухней.\t\n",
      "104\tFalse\tАтмосферное место, кухня на высоте!\n",
      "Персонал подучить... Так все ок!\t\n",
      "7/7 [==============================] - 0s 36ms/step\n",
      "0.29291784286499023\n",
      "( 95 )  [ True]\t( 96 )  [ True]\t( 97 )  [ True]\t( 98 )  [ True]\t( 99 )  [False]\t( 100 )  [ True]\t( 101 )  [False]\t( 102 )  [False]\t( 103 )  [False]\t( 104 )  [False]\t"
     ]
    }
   ],
   "source": [
    "for i in range(95, 105):\n",
    "    print(i, y_train[i], texts[i], sep= '\\t', end='\\t')\n",
    "    print()\n",
    "\n",
    "\n",
    "res = model.predict(x_train[0:200])\n",
    "dif = np.sum(res) / np.size(res)\n",
    "\n",
    "print(dif)\n",
    "\n",
    "for i in range(95, 105):\n",
    "    print('(', i, ') ', res[i] > dif, end='\\t')"
   ]
  },
  {
   "cell_type": "code",
   "execution_count": 367,
   "metadata": {},
   "outputs": [
    {
     "name": "stdout",
     "output_type": "stream",
     "text": [
      "Model: \"sequential_85\"\n",
      "_________________________________________________________________\n",
      " Layer (type)                Output Shape              Param #   \n",
      "=================================================================\n",
      " dense_414 (Dense)           (None, 4096)              3149824   \n",
      "                                                                 \n",
      " dropout_106 (Dropout)       (None, 4096)              0         \n",
      "                                                                 \n",
      " dense_415 (Dense)           (None, 3072)              12585984  \n",
      "                                                                 \n",
      " dense_416 (Dense)           (None, 3072)              9440256   \n",
      "                                                                 \n",
      " dropout_107 (Dropout)       (None, 3072)              0         \n",
      "                                                                 \n",
      " dense_417 (Dense)           (None, 2048)              6293504   \n",
      "                                                                 \n",
      " dense_418 (Dense)           (None, 2048)              4196352   \n",
      "                                                                 \n",
      " dropout_108 (Dropout)       (None, 2048)              0         \n",
      "                                                                 \n",
      " dense_419 (Dense)           (None, 1024)              2098176   \n",
      "                                                                 \n",
      " dense_420 (Dense)           (None, 1024)              1049600   \n",
      "                                                                 \n",
      " dropout_109 (Dropout)       (None, 1024)              0         \n",
      "                                                                 \n",
      " dense_421 (Dense)           (None, 512)               524800    \n",
      "                                                                 \n",
      " dense_422 (Dense)           (None, 256)               131328    \n",
      "                                                                 \n",
      " dropout_110 (Dropout)       (None, 256)               0         \n",
      "                                                                 \n",
      " dense_423 (Dense)           (None, 256)               65792     \n",
      "                                                                 \n",
      " dense_424 (Dense)           (None, 64)                16448     \n",
      "                                                                 \n",
      " dropout_111 (Dropout)       (None, 64)                0         \n",
      "                                                                 \n",
      " dense_425 (Dense)           (None, 1)                 65        \n",
      "                                                                 \n",
      "=================================================================\n",
      "Total params: 39,552,129\n",
      "Trainable params: 39,552,129\n",
      "Non-trainable params: 0\n",
      "_________________________________________________________________\n"
     ]
    },
    {
     "name": "stderr",
     "output_type": "stream",
     "text": [
      "2023-05-31 11:08:42.730749: I tensorflow/core/common_runtime/executor.cc:1197] [/device:CPU:0] (DEBUG INFO) Executor start aborting (this does not indicate an error and you can ignore this message): INVALID_ARGUMENT: You must feed a value for placeholder tensor 'inputs' with dtype float and shape [?,4096]\n",
      "\t [[{{node inputs}}]]\n",
      "2023-05-31 11:08:42.757491: I tensorflow/core/common_runtime/executor.cc:1197] [/device:CPU:0] (DEBUG INFO) Executor start aborting (this does not indicate an error and you can ignore this message): INVALID_ARGUMENT: You must feed a value for placeholder tensor 'inputs' with dtype float and shape [?,3072]\n",
      "\t [[{{node inputs}}]]\n",
      "2023-05-31 11:08:42.775465: I tensorflow/core/common_runtime/executor.cc:1197] [/device:CPU:0] (DEBUG INFO) Executor start aborting (this does not indicate an error and you can ignore this message): INVALID_ARGUMENT: You must feed a value for placeholder tensor 'inputs' with dtype float and shape [?,2048]\n",
      "\t [[{{node inputs}}]]\n",
      "2023-05-31 11:08:42.801218: I tensorflow/core/common_runtime/executor.cc:1197] [/device:CPU:0] (DEBUG INFO) Executor start aborting (this does not indicate an error and you can ignore this message): INVALID_ARGUMENT: You must feed a value for placeholder tensor 'inputs' with dtype float and shape [?,1024]\n",
      "\t [[{{node inputs}}]]\n",
      "2023-05-31 11:08:42.819991: I tensorflow/core/common_runtime/executor.cc:1197] [/device:CPU:0] (DEBUG INFO) Executor start aborting (this does not indicate an error and you can ignore this message): INVALID_ARGUMENT: You must feed a value for placeholder tensor 'inputs' with dtype float and shape [?,256]\n",
      "\t [[{{node inputs}}]]\n",
      "2023-05-31 11:08:42.841882: I tensorflow/core/common_runtime/executor.cc:1197] [/device:CPU:0] (DEBUG INFO) Executor start aborting (this does not indicate an error and you can ignore this message): INVALID_ARGUMENT: You must feed a value for placeholder tensor 'inputs' with dtype float and shape [?,64]\n",
      "\t [[{{node inputs}}]]\n",
      "2023-05-31 11:08:43.197213: I tensorflow/core/common_runtime/executor.cc:1197] [/device:CPU:0] (DEBUG INFO) Executor start aborting (this does not indicate an error and you can ignore this message): INVALID_ARGUMENT: You must feed a value for placeholder tensor 'inputs' with dtype float and shape [?,4096]\n",
      "\t [[{{node inputs}}]]\n",
      "2023-05-31 11:08:43.247356: I tensorflow/core/common_runtime/executor.cc:1197] [/device:CPU:0] (DEBUG INFO) Executor start aborting (this does not indicate an error and you can ignore this message): INVALID_ARGUMENT: You must feed a value for placeholder tensor 'inputs' with dtype float and shape [?,3072]\n",
      "\t [[{{node inputs}}]]\n",
      "2023-05-31 11:08:43.311590: I tensorflow/core/common_runtime/executor.cc:1197] [/device:CPU:0] (DEBUG INFO) Executor start aborting (this does not indicate an error and you can ignore this message): INVALID_ARGUMENT: You must feed a value for placeholder tensor 'inputs' with dtype float and shape [?,2048]\n",
      "\t [[{{node inputs}}]]\n",
      "2023-05-31 11:08:43.371229: I tensorflow/core/common_runtime/executor.cc:1197] [/device:CPU:0] (DEBUG INFO) Executor start aborting (this does not indicate an error and you can ignore this message): INVALID_ARGUMENT: You must feed a value for placeholder tensor 'inputs' with dtype float and shape [?,1024]\n",
      "\t [[{{node inputs}}]]\n",
      "2023-05-31 11:08:43.454051: I tensorflow/core/common_runtime/executor.cc:1197] [/device:CPU:0] (DEBUG INFO) Executor start aborting (this does not indicate an error and you can ignore this message): INVALID_ARGUMENT: You must feed a value for placeholder tensor 'inputs' with dtype float and shape [?,256]\n",
      "\t [[{{node inputs}}]]\n",
      "2023-05-31 11:08:43.520944: I tensorflow/core/common_runtime/executor.cc:1197] [/device:CPU:0] (DEBUG INFO) Executor start aborting (this does not indicate an error and you can ignore this message): INVALID_ARGUMENT: You must feed a value for placeholder tensor 'inputs' with dtype float and shape [?,64]\n",
      "\t [[{{node inputs}}]]\n",
      "WARNING:absl:Found untraced functions such as _update_step_xla while saving (showing 1 of 1). These functions will not be directly callable after loading.\n"
     ]
    },
    {
     "name": "stdout",
     "output_type": "stream",
     "text": [
      "INFO:tensorflow:Assets written to: model-31052023/assets\n"
     ]
    },
    {
     "name": "stderr",
     "output_type": "stream",
     "text": [
      "INFO:tensorflow:Assets written to: model-31052023/assets\n"
     ]
    }
   ],
   "source": [
    "import os\n",
    "\n",
    "model.summary()\n",
    "model.save('model-31052023')"
   ]
  }
 ],
 "metadata": {
  "kernelspec": {
   "display_name": "Python 3",
   "language": "python",
   "name": "python3"
  },
  "language_info": {
   "codemirror_mode": {
    "name": "ipython",
    "version": 3
   },
   "file_extension": ".py",
   "mimetype": "text/x-python",
   "name": "python",
   "nbconvert_exporter": "python",
   "pygments_lexer": "ipython3",
   "version": "3.9.7"
  },
  "orig_nbformat": 4
 },
 "nbformat": 4,
 "nbformat_minor": 2
}
