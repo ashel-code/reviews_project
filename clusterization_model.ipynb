{
 "cells": [
  {
   "cell_type": "code",
   "execution_count": 99,
   "metadata": {},
   "outputs": [
    {
     "name": "stdout",
     "output_type": "stream",
     "text": [
      "TensorFlow version: 2.12.0\n"
     ]
    }
   ],
   "source": [
    "import tensorflow as tf\n",
    "from tensorflow import keras\n",
    "\n",
    "# Helper libraries\n",
    "import numpy as np\n",
    "import matplotlib.pyplot as plt\n",
    "import os\n",
    "import subprocess\n",
    "import pickle\n",
    "\n",
    "print('TensorFlow version: {}'.format(tf.__version__))"
   ]
  },
  {
   "cell_type": "code",
   "execution_count": 112,
   "metadata": {},
   "outputs": [
    {
     "name": "stdout",
     "output_type": "stream",
     "text": [
      "(2, 5, 'Марина К.', datetime.date(2023, 2, 8), 'Очень приятное заведение, отличный коллектив, суперский Шеф-повар!!!Уютная домашняя обстановка. Вкусно и сытно пообедали (и не раз) Борщик-вкуснейший. Оо,  пива отличный выбор.   А их ЛИМАНЧЕЛЛООО-моя ?. Так что придём ещё!', 'Снути Фокс', None, '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')\n"
     ]
    }
   ],
   "source": [
    "from db_actions import DatabaseActions as db\n",
    "\n",
    "data = db.get_all()\n",
    "print(data[1])"
   ]
  },
  {
   "cell_type": "code",
   "execution_count": 101,
   "metadata": {},
   "outputs": [],
   "source": [
    "dataset = [[data[0][4], pickle.loads(bytes.fromhex(data[0][7]))]]\n",
    "for i in range(1, len(data)):\n",
    "    if(data[1] == 5):\n",
    "        dataset.append([data[i][4], pickle.loads(bytes.fromhex(data[i][7]))])\n"
   ]
  },
  {
   "cell_type": "code",
   "execution_count": 102,
   "metadata": {},
   "outputs": [
    {
     "name": "stdout",
     "output_type": "stream",
     "text": [
      "(1, 768)\n"
     ]
    }
   ],
   "source": [
    "\n",
    "import numpy as np\n",
    "from keras.models import Sequential\n",
    "from keras.layers import Dense\n",
    "from sklearn.cluster import KMeans\n",
    "from sklearn.feature_extraction.text import TfidfVectorizer\n",
    "\n",
    "vectors_tmp = []\n",
    "for record in dataset:\n",
    "    vectors_tmp.append(record[1])\n",
    "\n",
    "# make numpy array vectors\n",
    "vectors = np.array(vectors_tmp)\n",
    "\n",
    "print(vectors.shape)\n"
   ]
  },
  {
   "cell_type": "code",
   "execution_count": 103,
   "metadata": {},
   "outputs": [
    {
     "name": "stdout",
     "output_type": "stream",
     "text": [
      "Epoch 1/10\n",
      "1/1 [==============================] - 1s 682ms/step - loss: 0.3141\n",
      "Epoch 2/10\n",
      "1/1 [==============================] - 0s 6ms/step - loss: 0.0185\n",
      "Epoch 3/10\n",
      "1/1 [==============================] - 0s 9ms/step - loss: 0.0024\n",
      "Epoch 4/10\n",
      "1/1 [==============================] - 0s 10ms/step - loss: 5.2772e-04\n",
      "Epoch 5/10\n",
      "1/1 [==============================] - 0s 12ms/step - loss: 1.6628e-04\n",
      "Epoch 6/10\n",
      "1/1 [==============================] - 0s 12ms/step - loss: 6.6993e-05\n",
      "Epoch 7/10\n",
      "1/1 [==============================] - 0s 8ms/step - loss: 3.2186e-05\n",
      "Epoch 8/10\n",
      "1/1 [==============================] - 0s 12ms/step - loss: 1.7643e-05\n",
      "Epoch 9/10\n",
      "1/1 [==============================] - 0s 8ms/step - loss: 1.0729e-05\n",
      "Epoch 10/10\n",
      "1/1 [==============================] - 0s 11ms/step - loss: 7.0333e-06\n"
     ]
    },
    {
     "data": {
      "text/plain": [
       "<keras.callbacks.History at 0x1605a1e20>"
      ]
     },
     "execution_count": 103,
     "metadata": {},
     "output_type": "execute_result"
    }
   ],
   "source": [
    "model = Sequential()\n",
    "model.add(Dense(64, input_dim=768, activation='relu'))\n",
    "model.add(Dense(256, activation='sigmoid'))\n",
    "model.add(Dense(768, activation='sigmoid'))\n",
    "model.add(Dense(256, activation='sigmoid'))\n",
    "model.add(Dense(2, activation='softmax'))\n",
    "# Compile the model\n",
    "model.compile(loss='categorical_crossentropy', optimizer='adam')\n",
    "# Train the model\n",
    "model.fit(vectors, np.array([[1,0]]*len(vectors)), epochs=10, verbose=1)\n",
    "\n"
   ]
  },
  {
   "cell_type": "code",
   "execution_count": 104,
   "metadata": {},
   "outputs": [
    {
     "name": "stdout",
     "output_type": "stream",
     "text": [
      "1/1 [==============================] - 0s 63ms/step\n"
     ]
    },
    {
     "name": "stderr",
     "output_type": "stream",
     "text": [
      "/usr/local/lib/python3.9/site-packages/sklearn/cluster/_kmeans.py:870: FutureWarning: The default value of `n_init` will change from 10 to 'auto' in 1.4. Set the value of `n_init` explicitly to suppress the warning\n",
      "  warnings.warn(\n"
     ]
    }
   ],
   "source": [
    "predicted_vectors = model.predict(vectors)\n",
    "\n",
    "# Apply K-means clustering to the predicted vectors\n",
    "kmeans = KMeans(n_clusters=1)\n",
    "labels = kmeans.fit_predict(predicted_vectors)"
   ]
  },
  {
   "cell_type": "code",
   "execution_count": 105,
   "metadata": {},
   "outputs": [
    {
     "name": "stdout",
     "output_type": "stream",
     "text": [
      "Прекрасный паб. Была случайно приглашена и приятно удивлена.  Уютный, с отличным персоналом и приятной музыкой! Кухня отличная, блюда подают быстро,  ассортимент напитков тоже хорош. Обязательно заглянем ещё. Рекомендую!\n",
      "\n",
      "----------------------------------------------------------------------------------------------------------------------------------------------------------------\n",
      "\n",
      "1\n"
     ]
    }
   ],
   "source": [
    "# import structure.outputs\n",
    "c = 0\n",
    "for i in range(labels.shape[0]):\n",
    "    if labels[i] == 0:\n",
    "        c += 1\n",
    "        print(dataset[i][0],end = '\\n\\n' + '-' * 160 + '\\n\\n')\n",
    "\n",
    "print(c)"
   ]
  },
  {
   "cell_type": "code",
   "execution_count": 107,
   "metadata": {},
   "outputs": [
    {
     "name": "stdout",
     "output_type": "stream",
     "text": [
      "0\n"
     ]
    }
   ],
   "source": [
    "c = 0\n",
    "for i in range(labels.shape[0]):\n",
    "    if labels[i] == 1:\n",
    "        c += 1\n",
    "        print(dataset[i][0],end = '\\n\\n' + '-' * 160 + '\\n\\n')\n",
    "\n",
    "print(c)"
   ]
  }
 ],
 "metadata": {
  "kernelspec": {
   "display_name": "Python 3",
   "language": "python",
   "name": "python3"
  },
  "language_info": {
   "codemirror_mode": {
    "name": "ipython",
    "version": 3
   },
   "file_extension": ".py",
   "mimetype": "text/x-python",
   "name": "python",
   "nbconvert_exporter": "python",
   "pygments_lexer": "ipython3",
   "version": "3.9.7"
  },
  "orig_nbformat": 4
 },
 "nbformat": 4,
 "nbformat_minor": 2
}
