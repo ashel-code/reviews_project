{
 "cells": [
  {
   "cell_type": "code",
   "execution_count": null,
   "metadata": {},
   "outputs": [],
   "source": [
    "import tensorflow as tf\n",
    "from tensorflow import keras\n",
    "\n",
    "# Helper libraries\n",
    "import numpy as np\n",
    "import matplotlib.pyplot as plt\n",
    "import os\n",
    "import subprocess\n",
    "import pickle\n",
    "\n",
    "print('TensorFlow version: {}'.format(tf.__version__))"
   ]
  },
  {
   "cell_type": "code",
   "execution_count": null,
   "metadata": {},
   "outputs": [],
   "source": [
    "from db_actions import DatabaseActions as db\n",
    "\n",
    "data = db.get_all()\n",
    "print(data[3])"
   ]
  },
  {
   "cell_type": "code",
   "execution_count": null,
   "metadata": {},
   "outputs": [],
   "source": [
    "dataset = [[data[0][4], pickle.loads(bytes.fromhex(data[0][7]))]]\n",
    "for i in range(1, len(data)):\n",
    "\n",
    "    if(data[i][1] == 5):\n",
    "        dataset.append([data[i][4], pickle.loads(bytes.fromhex(data[i][7]))])\n"
   ]
  },
  {
   "cell_type": "code",
   "execution_count": null,
   "metadata": {},
   "outputs": [],
   "source": [
    "\n",
    "import numpy as np\n",
    "from keras.models import Sequential\n",
    "from keras.layers import Dense\n",
    "from sklearn.cluster import KMeans\n",
    "from sklearn.feature_extraction.text import TfidfVectorizer\n",
    "\n",
    "vectors_tmp = []\n",
    "for record in dataset:\n",
    "    vectors_tmp.append(record[1])\n",
    "\n",
    "# make numpy array vectors\n",
    "vectors = np.array(vectors_tmp)\n",
    "\n",
    "print(vectors.shape)\n"
   ]
  },
  {
   "cell_type": "code",
   "execution_count": null,
   "metadata": {},
   "outputs": [],
   "source": [
    "# print max value in vector in vectors by absolute value\n",
    "def max_abs_value(vectors):\n",
    "    max_value = 0\n",
    "    for vector in vectors:\n",
    "        max_value = max(max_value, max(abs(x) for x in vector))\n",
    "    return max_value\n",
    "\n",
    "print(max_abs_value(vectors), end= '\\n' + '~' * 80 + '\\n')\n",
    "\n",
    "vectors = vectors / max_abs_value(vectors)\n",
    "\n",
    "print(max_abs_value(vectors))\n"
   ]
  },
  {
   "cell_type": "code",
   "execution_count": null,
   "metadata": {},
   "outputs": [],
   "source": [
    "model = Sequential()\n",
    "model.add(Dense(64, input_dim=768, activation='relu'))\n",
    "model.add(Dense(256, activation='sigmoid'))\n",
    "model.add(Dense(768, activation='sigmoid'))\n",
    "model.add(Dense(256, activation='sigmoid'))\n",
    "model.add(Dense(2, activation='softmax'))\n",
    "# Compile the model\n",
    "model.compile(loss='categorical_crossentropy', optimizer='adam')\n",
    "# Train the model\n",
    "model.fit(vectors, np.array([[1,0]]*len(vectors)), epochs=10, verbose=1)\n",
    "\n"
   ]
  },
  {
   "cell_type": "code",
   "execution_count": null,
   "metadata": {},
   "outputs": [],
   "source": [
    "predicted_vectors = model.predict(vectors)\n",
    "\n",
    "# Apply K-means clustering to the predicted vectors\n",
    "kmeans = KMeans(n_clusters=2)\n",
    "labels = kmeans.fit_predict(predicted_vectors)"
   ]
  },
  {
   "cell_type": "code",
   "execution_count": null,
   "metadata": {},
   "outputs": [],
   "source": [
    "# import structure.outputs\n",
    "c = 0\n",
    "for i in range(labels.shape[0]):\n",
    "    if labels[i] == 0:\n",
    "        c += 1\n",
    "        print(dataset[i][0],end = '\\n\\n' + '-' * 160 + '\\n\\n')\n",
    "\n",
    "print(c)"
   ]
  },
  {
   "cell_type": "code",
   "execution_count": null,
   "metadata": {},
   "outputs": [],
   "source": [
    "c = 0\n",
    "for i in range(labels.shape[0]):\n",
    "    if labels[i] == 1:\n",
    "        c += 1\n",
    "        print(dataset[i][0],end = '\\n\\n' + '-' * 160 + '\\n\\n')\n",
    "\n",
    "print(c)"
   ]
  }
 ],
 "metadata": {
  "kernelspec": {
   "display_name": "Python 3",
   "language": "python",
   "name": "python3"
  },
  "language_info": {
   "codemirror_mode": {
    "name": "ipython",
    "version": 3
   },
   "file_extension": ".py",
   "mimetype": "text/x-python",
   "name": "python",
   "nbconvert_exporter": "python",
   "pygments_lexer": "ipython3",
   "version": "3.9.7"
  },
  "orig_nbformat": 4
 },
 "nbformat": 4,
 "nbformat_minor": 2
}
