{
 "cells": [
  {
   "cell_type": "code",
   "execution_count": null,
   "metadata": {},
   "outputs": [],
   "source": [
    "import tensorflow as tf\n",
    "from tokenizing import tokenize\n",
    "from frequency_analysis import get_prob\n",
    "from similarity_analysis import get_sim\n",
    "from structure.train_data import StoredData\n",
    "from db_actions import DatabaseActions as db\n"
   ]
  },
  {
   "cell_type": "code",
   "execution_count": null,
   "metadata": {},
   "outputs": [],
   "source": [
    "data = db.get_parsed()\n",
    "\n",
    "storedData = StoredData(data, \n",
    "                        do_smote=False,\n",
    "                        test_ratio=0.8)"
   ]
  },
  {
   "cell_type": "code",
   "execution_count": null,
   "metadata": {},
   "outputs": [],
   "source": [
    "from get_config import get_data\n",
    "data = storedData.texts_train"
   ]
  },
  {
   "cell_type": "code",
   "execution_count": null,
   "metadata": {},
   "outputs": [],
   "source": [
    "\n",
    "y = storedData.y_train\n",
    "model_link = get_data('model_path')\n",
    "\n",
    "# print(data)\n",
    "\n",
    "model = tf.keras.models.load_model(model_link)\n",
    "vector = tokenize(data=data)\n",
    "\n",
    "\n"
   ]
  },
  {
   "cell_type": "code",
   "execution_count": null,
   "metadata": {},
   "outputs": [],
   "source": [
    "import numpy as np\n",
    "print(vector[1])\n",
    "vector = np.array(vector)\n",
    "vector = vector.reshape((len(vector), 24, 32))\n",
    "neuro_res = model.predict(vector)\n",
    "print(neuro_res[1])"
   ]
  },
  {
   "cell_type": "code",
   "execution_count": null,
   "metadata": {},
   "outputs": [],
   "source": [
    "algo1_res = []\n",
    "for i in range(len(data)):\n",
    "    algo1_res.append(get_prob(data[i]))\n"
   ]
  },
  {
   "cell_type": "code",
   "execution_count": null,
   "metadata": {},
   "outputs": [],
   "source": [
    "print(len(data))\n",
    "algo2_res = []\n",
    "for i in range(len(data)):\n",
    "\n",
    "    print(i)\n",
    "    algo2_res.append(get_sim(data[i]))\n"
   ]
  },
  {
   "cell_type": "code",
   "execution_count": null,
   "metadata": {},
   "outputs": [],
   "source": [
    "\n",
    "X = []\n",
    "for i in range(len(data)):\n",
    "    X.append([neuro_res[i], algo1_res[i], algo2_res[i]])"
   ]
  },
  {
   "cell_type": "code",
   "execution_count": null,
   "metadata": {},
   "outputs": [],
   "source": [
    "import numpy as np\n",
    "from sklearn.ensemble import RandomForestClassifier\n",
    "\n",
    "\n",
    "# Create a random forest classifier\n",
    "rf_classifier = RandomForestClassifier(n_estimators=100)\n",
    "\n",
    "# Train the classifier\n",
    "rf_classifier.fit(X, y)\n",
    "\n",
    "# Generate a new test sample\n",
    "new_sample = np.array([[2, 4, 6]])\n",
    "\n",
    "# Predict the binary outcome for the new sample\n",
    "prediction = rf_classifier.predict(new_sample)\n",
    "\n",
    "# Print the predicted outcome\n",
    "print(\"Predicted outcome:\", prediction)"
   ]
  }
 ],
 "metadata": {
  "kernelspec": {
   "display_name": "Python 3",
   "language": "python",
   "name": "python3"
  },
  "language_info": {
   "codemirror_mode": {
    "name": "ipython",
    "version": 3
   },
   "file_extension": ".py",
   "mimetype": "text/x-python",
   "name": "python",
   "nbconvert_exporter": "python",
   "pygments_lexer": "ipython3",
   "version": "3.9.7"
  },
  "orig_nbformat": 4
 },
 "nbformat": 4,
 "nbformat_minor": 2
}
